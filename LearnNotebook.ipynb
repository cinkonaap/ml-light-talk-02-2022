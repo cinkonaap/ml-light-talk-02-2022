{
 "cells": [
  {
   "cell_type": "code",
   "execution_count": 5,
   "id": "bcbc18eb",
   "metadata": {},
   "outputs": [
    {
     "name": "stdout",
     "output_type": "stream",
     "text": [
      "5\n",
      "[1, 2, 3]\n",
      "5 number\n"
     ]
    }
   ],
   "source": [
    "# Python works inline, quick syntax recap\n",
    "##\n",
    "print(5)\n",
    "\n",
    "##\n",
    "a = [1,2,3]\n",
    "[x + 1 for x in a]\n",
    "print(a)\n",
    "\n",
    "##\n",
    "b = f\"{2+3} number\"\n",
    "print(b)\n",
    "\n",
    "##\n",
    "c = { 'x': 2, 'y': '5' }"
   ]
  },
  {
   "cell_type": "code",
   "execution_count": 6,
   "id": "77318441",
   "metadata": {},
   "outputs": [
    {
     "name": "stdout",
     "output_type": "stream",
     "text": [
      "[0.  0.1 0.2 0.3 0.4 0.5 0.6 0.7 0.8 0.9]\n",
      "[0.0, 0.010000000000000002, 0.04000000000000001, 0.09000000000000002, 0.16000000000000003, 0.25, 0.3600000000000001, 0.4900000000000001, 0.6400000000000001, 0.81]\n"
     ]
    },
    {
     "data": {
      "text/plain": [
       "<AxesSubplot:>"
      ]
     },
     "execution_count": 6,
     "metadata": {},
     "output_type": "execute_result"
    },
    {
     "data": {
      "image/png": "[encoded data removed]",
      "text/plain": [
       "<Figure size 432x288 with 1 Axes>"
      ]
     },
     "metadata": {
      "needs_background": "light"
     },
     "output_type": "display_data"
    }
   ],
   "source": [
    "# Example of plotting with seaborn\n",
    "import numpy as np\n",
    "import seaborn as sns\n",
    "\n",
    "x = np.arange(0.0, 1.0, step=0.1)\n",
    "print(x)\n",
    "y = [pow(x, 2) for x in x]\n",
    "print(y)\n",
    "\n",
    "sns.lineplot(x=x, y=y)"
   ]
  },
  {
   "cell_type": "code",
   "execution_count": 7,
   "id": "ca8b22f0",
   "metadata": {},
   "outputs": [
    {
     "data": {
      "text/html": [
       "<div>\n",
       "<style scoped>\n",
       "    .dataframe tbody tr th:only-of-type {\n",
       "        vertical-align: middle;\n",
       "    }\n",
       "\n",
       "    .dataframe tbody tr th {\n",
       "        vertical-align: top;\n",
       "    }\n",
       "\n",
       "    .dataframe thead th {\n",
       "        text-align: right;\n",
       "    }\n",
       "</style>\n",
       "<table border=\"1\" class=\"dataframe\">\n",
       "  <thead>\n",
       "    <tr style=\"text-align: right;\">\n",
       "      <th></th>\n",
       "      <th>A</th>\n",
       "      <th>B</th>\n",
       "    </tr>\n",
       "  </thead>\n",
       "  <tbody>\n",
       "    <tr>\n",
       "      <th>0</th>\n",
       "      <td>0.0</td>\n",
       "      <td>0.00</td>\n",
       "    </tr>\n",
       "    <tr>\n",
       "      <th>1</th>\n",
       "      <td>0.1</td>\n",
       "      <td>0.01</td>\n",
       "    </tr>\n",
       "    <tr>\n",
       "      <th>2</th>\n",
       "      <td>0.2</td>\n",
       "      <td>0.04</td>\n",
       "    </tr>\n",
       "    <tr>\n",
       "      <th>3</th>\n",
       "      <td>0.3</td>\n",
       "      <td>0.09</td>\n",
       "    </tr>\n",
       "    <tr>\n",
       "      <th>4</th>\n",
       "      <td>0.4</td>\n",
       "      <td>0.16</td>\n",
       "    </tr>\n",
       "    <tr>\n",
       "      <th>5</th>\n",
       "      <td>0.5</td>\n",
       "      <td>0.25</td>\n",
       "    </tr>\n",
       "    <tr>\n",
       "      <th>6</th>\n",
       "      <td>0.6</td>\n",
       "      <td>0.36</td>\n",
       "    </tr>\n",
       "    <tr>\n",
       "      <th>7</th>\n",
       "      <td>0.7</td>\n",
       "      <td>0.49</td>\n",
       "    </tr>\n",
       "    <tr>\n",
       "      <th>8</th>\n",
       "      <td>0.8</td>\n",
       "      <td>0.64</td>\n",
       "    </tr>\n",
       "    <tr>\n",
       "      <th>9</th>\n",
       "      <td>0.9</td>\n",
       "      <td>0.81</td>\n",
       "    </tr>\n",
       "  </tbody>\n",
       "</table>\n",
       "</div>"
      ],
      "text/plain": [
       "     A     B\n",
       "0  0.0  0.00\n",
       "1  0.1  0.01\n",
       "2  0.2  0.04\n",
       "3  0.3  0.09\n",
       "4  0.4  0.16\n",
       "5  0.5  0.25\n",
       "6  0.6  0.36\n",
       "7  0.7  0.49\n",
       "8  0.8  0.64\n",
       "9  0.9  0.81"
      ]
     },
     "execution_count": 7,
     "metadata": {},
     "output_type": "execute_result"
    }
   ],
   "source": [
    "# Create data frame\n",
    "import pandas as pd\n",
    "\n",
    "data_dict = { 'A': x, 'B': y }\n",
    "df = pd.DataFrame(data_dict)\n",
    "\n",
    "df"
   ]
  },
  {
   "cell_type": "code",
   "execution_count": 8,
   "id": "40f7210f",
   "metadata": {},
   "outputs": [
    {
     "data": {
      "text/plain": [
       "0    0.0\n",
       "1    0.1\n",
       "2    0.2\n",
       "3    0.3\n",
       "4    0.4\n",
       "5    0.5\n",
       "6    0.6\n",
       "7    0.7\n",
       "8    0.8\n",
       "9    0.9\n",
       "Name: A, dtype: float64"
      ]
     },
     "execution_count": 8,
     "metadata": {},
     "output_type": "execute_result"
    }
   ],
   "source": [
    "# Playing with the data frames\n",
    "\n",
    "df['A']\n",
    "df[['A']]\n",
    "df[['A', 'B']]\n",
    "\n",
    "df[df['A'] == 0.0]\n",
    "\n",
    "## rows first, then columns\n",
    "df.loc[:, 'A']\n",
    "df.iloc[:, 0]"
   ]
  },
  {
   "cell_type": "code",
   "execution_count": 11,
   "id": "40f29eb3",
   "metadata": {},
   "outputs": [
    {
     "name": "stdout",
     "output_type": "stream",
     "text": [
      "[0.  0.1 0.2 0.3 0.4 0.5 0.6 0.7 0.8 0.9]\n",
      "[0.  0.5 1.  1.5 2.  2.5 3.  3.5 4.  4.5]\n"
     ]
    },
    {
     "name": "stderr",
     "output_type": "stream",
     "text": [
      "/usr/local/lib/python3.9/site-packages/seaborn/_decorators.py:36: FutureWarning: Pass the following variables as keyword args: x, y. From version 0.12, the only valid positional argument will be `data`, and passing other arguments without an explicit keyword will result in an error or misinterpretation.\n",
      "  warnings.warn(\n",
      "/usr/local/lib/python3.9/site-packages/seaborn/_decorators.py:36: FutureWarning: Pass the following variables as keyword args: x, y. From version 0.12, the only valid positional argument will be `data`, and passing other arguments without an explicit keyword will result in an error or misinterpretation.\n",
      "  warnings.warn(\n"
     ]
    },
    {
     "data": {
      "text/plain": [
       "<AxesSubplot:>"
      ]
     },
     "execution_count": 11,
     "metadata": {},
     "output_type": "execute_result"
    },
    {
     "data": {
      "image/png": "[encoded data removed]",
      "text/plain": [
       "<Figure size 432x288 with 1 Axes>"
      ]
     },
     "metadata": {
      "needs_background": "light"
     },
     "output_type": "display_data"
    }
   ],
   "source": [
    "# Simple linear model\n",
    "linear_function = lambda x: x * 5\n",
    "\n",
    "x = np.arange(0.0, 50.0, step=0.1)\n",
    "y = np.array([linear_function(x) for x in x])\n",
    "\n",
    "print(x[:10])\n",
    "print(y[:10])\n",
    "\n",
    "# machine learning models works with an 2d array structure to hold data columns, and rows.\n",
    "# each entry in an array is a row, holding information for all columns\n",
    "# thats why for one property data, we need it too look like this:\n",
    "# [\n",
    "#   [0.0]\n",
    "#   [0.1]\n",
    "#   [0.2]\n",
    "# ]\n",
    "X = x.reshape(-1, 1)\n",
    "\n",
    "sns.lineplot(x, y)\n",
    "\n",
    "from sklearn.linear_model import LinearRegression\n",
    "\n",
    "linear_model = LinearRegression()\n",
    "linear_model.fit(X, y)\n",
    "\n",
    "lx_test = np.arange(-251.0, 251.0, step=0.5)\n",
    "ly_test = linear_model.predict(lx_test.reshape(-1, 1))\n",
    "\n",
    "sns.lineplot(lx_test, ly_test)"
   ]
  },
  {
   "cell_type": "code",
   "execution_count": 13,
   "id": "f597b862",
   "metadata": {},
   "outputs": [
    {
     "data": {
      "text/plain": [
       "<seaborn.axisgrid.PairGrid at 0x405f506d60>"
      ]
     },
     "execution_count": 13,
     "metadata": {},
     "output_type": "execute_result"
    },
    {
     "data": {
      "image/png": "[encoded data removed]",
      "text/plain": [
       "<Figure size 900x900 with 30 Axes>"
      ]
     },
     "metadata": {
      "needs_background": "light"
     },
     "output_type": "display_data"
    }
   ],
   "source": [
    "import pandas as pd\n",
    "import seaborn as sns\n",
    "from sklearn.datasets import load_iris\n",
    "\n",
    "# https://scikit-learn.org/stable/datasets/toy_dataset.html#iris-dataset\n",
    "iris_data = load_iris()\n",
    "iris_df = pd.DataFrame(data=iris_data.data, columns=iris_data.feature_names)\n",
    "iris_df['target'] = iris_data.target\n",
    "\n",
    "sns.pairplot(iris_df)"
   ]
  },
  {
   "cell_type": "code",
   "execution_count": 16,
   "id": "155fdb4e",
   "metadata": {},
   "outputs": [
    {
     "name": "stdout",
     "output_type": "stream",
     "text": [
      "Linear\n",
      "Train score 0.9666666666666667\n",
      "Test score 0.9333333333333333\n",
      "Random Forest\n",
      "Train score 1.0\n",
      "Test score 0.9333333333333333\n"
     ]
    }
   ],
   "source": [
    "from sklearn.model_selection import train_test_split\n",
    "from sklearn.linear_model import LogisticRegression\n",
    "from sklearn.ensemble import RandomForestClassifier\n",
    "\n",
    "iris_X = iris_df.drop(columns=['target'])\n",
    "iris_y = iris_df['target']\n",
    "\n",
    "iris_learn_X, iris_test_X, iris_learn_y, iris_test_y = train_test_split(iris_X, iris_y, test_size=0.6, stratify=iris_y)\n",
    "\n",
    "# Linear\n",
    "iris_linear_cls = LogisticRegression()\n",
    "iris_linear_cls.fit(iris_learn_X, iris_learn_y)\n",
    "\n",
    "train_score = iris_linear_cls.score(iris_learn_X, iris_learn_y)\n",
    "test_score = iris_linear_cls.score(iris_test_X, iris_test_y)\n",
    "\n",
    "print(\"Linear\")\n",
    "print(f\"Train score {train_score}\")\n",
    "print(f\"Test score {test_score}\")\n",
    "\n",
    "# Forest\n",
    "iris_forest_cls = RandomForestClassifier()\n",
    "iris_forest_cls.fit(iris_learn_X, iris_learn_y)\n",
    "\n",
    "train_score = iris_forest_cls.score(iris_learn_X, iris_learn_y)\n",
    "test_score = iris_forest_cls.score(iris_test_X, iris_test_y)\n",
    "\n",
    "print(\"Random Forest\")\n",
    "print(f\"Train score {train_score}\")\n",
    "print(f\"Test score {test_score}\")"
   ]
  },
  {
   "cell_type": "code",
   "execution_count": 46,
   "id": "f0d8b492",
   "metadata": {},
   "outputs": [
    {
     "data": {
      "text/html": [
       "<div>\n",
       "<style scoped>\n",
       "    .dataframe tbody tr th:only-of-type {\n",
       "        vertical-align: middle;\n",
       "    }\n",
       "\n",
       "    .dataframe tbody tr th {\n",
       "        vertical-align: top;\n",
       "    }\n",
       "\n",
       "    .dataframe thead th {\n",
       "        text-align: right;\n",
       "    }\n",
       "</style>\n",
       "<table border=\"1\" class=\"dataframe\">\n",
       "  <thead>\n",
       "    <tr style=\"text-align: right;\">\n",
       "      <th></th>\n",
       "      <th>sepal length (cm)</th>\n",
       "      <th>sepal width (cm)</th>\n",
       "      <th>petal length (cm)</th>\n",
       "      <th>petal width (cm)</th>\n",
       "      <th>target</th>\n",
       "    </tr>\n",
       "  </thead>\n",
       "  <tbody>\n",
       "    <tr>\n",
       "      <th>0</th>\n",
       "      <td>5.1</td>\n",
       "      <td>3.5</td>\n",
       "      <td>1.4</td>\n",
       "      <td>0.2</td>\n",
       "      <td>0</td>\n",
       "    </tr>\n",
       "  </tbody>\n",
       "</table>\n",
       "</div>"
      ],
      "text/plain": [
       "   sepal length (cm)  sepal width (cm)  petal length (cm)  petal width (cm)  \\\n",
       "0                5.1               3.5                1.4               0.2   \n",
       "\n",
       "   target  \n",
       "0       0  "
      ]
     },
     "execution_count": 46,
     "metadata": {},
     "output_type": "execute_result"
    }
   ],
   "source": [
    "iris_df.head(1)"
   ]
  },
  {
   "cell_type": "code",
   "execution_count": 18,
   "id": "a6e9509c",
   "metadata": {},
   "outputs": [
    {
     "name": "stdout",
     "output_type": "stream",
     "text": [
      "{'n_estimators': 100, 'max_depth': 3}\n",
      "0.9333333333333333\n",
      "[0]\n"
     ]
    },
    {
     "name": "stderr",
     "output_type": "stream",
     "text": [
      "/usr/local/lib/python3.9/site-packages/sklearn/base.py:450: UserWarning: X does not have valid feature names, but RandomForestClassifier was fitted with feature names\n",
      "  warnings.warn(\n"
     ]
    }
   ],
   "source": [
    "from sklearn.model_selection import RandomizedSearchCV\n",
    "\n",
    "random_forest_params_grid = {\n",
    "    'n_estimators': [10, 50, 100, 500],\n",
    "    'max_depth': [3, 8, 12, None],\n",
    "}\n",
    "\n",
    "iris_forest_cls = RandomForestClassifier()\n",
    "\n",
    "search_cv = RandomizedSearchCV(iris_forest_cls, random_forest_params_grid, n_iter=10)\n",
    "search_cv.fit(iris_learn_X, iris_learn_y)\n",
    "\n",
    "print(search_cv.best_params_)\n",
    "\n",
    "best_forest_estimator = search_cv.best_estimator_\n",
    "print(best_forest_estimator.score(iris_test_X, iris_test_y))\n",
    "\n",
    "print(best_forest_estimator.predict([[7.2, 3.3, 0.8, 0.7]]))"
   ]
  },
  {
   "cell_type": "code",
   "execution_count": null,
   "id": "690e72c7",
   "metadata": {},
   "outputs": [],
   "source": [
    "# Other topics:\n",
    "# - Overfitting / underfitting\n",
    "# - Cross validation"
   ]
  },
  {
   "cell_type": "code",
   "execution_count": 19,
   "id": "dbefc303",
   "metadata": {},
   "outputs": [
    {
     "name": "stdout",
     "output_type": "stream",
     "text": [
      "(117927, 10)\n",
      "\n",
      "mark               object\n",
      "model              object\n",
      "generation_name    object\n",
      "year                int64\n",
      "mileage             int64\n",
      "vol_engine          int64\n",
      "fuel               object\n",
      "city               object\n",
      "province           object\n",
      "price               int64\n",
      "dtype: object\n",
      "\n",
      "audi          12031\n",
      "opel          11914\n",
      "bmw           11070\n",
      "volkswagen    10848\n",
      "ford           9664\n",
      "Name: mark, dtype: int64\n",
      "\n",
      "count    117927.00\n",
      "mean      70299.88\n",
      "std       84824.58\n",
      "min         500.00\n",
      "25%       21000.00\n",
      "50%       41900.00\n",
      "75%       83600.00\n",
      "max     2399900.00\n",
      "Name: price, dtype: float64\n",
      "\n"
     ]
    },
    {
     "data": {
      "text/plain": [
       "<seaborn.axisgrid.FacetGrid at 0x4061051fd0>"
      ]
     },
     "execution_count": 19,
     "metadata": {},
     "output_type": "execute_result"
    },
    {
     "data": {
      "image/png": "[encoded data removed]",
      "text/plain": [
       "<Figure size 432x288 with 1 Axes>"
      ]
     },
     "metadata": {
      "needs_background": "light"
     },
     "output_type": "display_data"
    },
    {
     "data": {
      "image/png": "[encoded data removed]",
      "text/plain": [
       "<Figure size 360x360 with 1 Axes>"
      ]
     },
     "metadata": {
      "needs_background": "light"
     },
     "output_type": "display_data"
    }
   ],
   "source": [
    "# Load the data\n",
    "cars_df = pd.read_csv('./data/car_prices_poland.csv', index_col=0)\n",
    "\n",
    "pd.options.display.float_format = '{:.2f}'.format\n",
    "\n",
    "print(cars_df.shape)\n",
    "print()\n",
    "print(cars_df.dtypes)\n",
    "print()\n",
    "print(cars_df['mark'].value_counts().head(5))\n",
    "print()\n",
    "print(cars_df['price'].describe())\n",
    "print()\n",
    "\n",
    "sns.histplot(data=cars_df, x=\"year\", bins=12)\n",
    "sns.relplot(data=cars_df, x=\"year\", y=\"price\")"
   ]
  },
  {
   "cell_type": "code",
   "execution_count": 85,
   "id": "3389454f",
   "metadata": {},
   "outputs": [],
   "source": [
    "# Deep learning using keras\n",
    "\n",
    "###\n",
    "cars_ml_df = cars_df[['mark', 'fuel', 'year', 'mileage', 'vol_engine', 'price']]"
   ]
  },
  {
   "cell_type": "code",
   "execution_count": 63,
   "id": "7bba1aa2",
   "metadata": {},
   "outputs": [
    {
     "name": "stdout",
     "output_type": "stream",
     "text": [
      "audi             12031\n",
      "opel             11914\n",
      "bmw              11070\n",
      "volkswagen       10848\n",
      "ford              9664\n",
      "mercedes-benz     7136\n",
      "renault           6976\n",
      "skoda             5888\n",
      "toyota            5120\n",
      "peugeot           5056\n",
      "volvo             4384\n",
      "hyundai           4032\n",
      "kia               3744\n",
      "nissan            3072\n",
      "fiat              2880\n",
      "mazda             2848\n",
      "seat              2848\n",
      "citroen           2720\n",
      "honda             2176\n",
      "mitsubishi        1120\n",
      "mini              1088\n",
      "alfa-romeo         704\n",
      "chevrolet          608\n",
      "Name: mark, dtype: int64\n"
     ]
    }
   ],
   "source": [
    "print(cars_df['mark'].value_counts())\n",
    "\n",
    "cars_ml_df = cars_ml_df[cars_ml_df['mark'].isin(['audi', 'opel', 'bmw', 'volkswagen', 'ford'])]"
   ]
  },
  {
   "cell_type": "code",
   "execution_count": 64,
   "id": "47ead3a5",
   "metadata": {},
   "outputs": [
    {
     "name": "stdout",
     "output_type": "stream",
     "text": [
      "Diesel      26421\n",
      "Gasoline    26305\n",
      "LPG          1785\n",
      "Hybrid        547\n",
      "Electric      440\n",
      "CNG            29\n",
      "Name: fuel, dtype: int64\n"
     ]
    }
   ],
   "source": [
    "print(cars_ml_df['fuel'].value_counts())"
   ]
  },
  {
   "cell_type": "code",
   "execution_count": 29,
   "id": "8d4e5abd",
   "metadata": {},
   "outputs": [
    {
     "name": "stdout",
     "output_type": "stream",
     "text": [
      "2021    4909\n",
      "2018    3846\n",
      "2017    3789\n",
      "2009    3253\n",
      "2008    3237\n",
      "2011    3086\n",
      "2007    2945\n",
      "2016    2903\n",
      "2012    2895\n",
      "2010    2881\n",
      "2015    2682\n",
      "2006    2650\n",
      "2014    2548\n",
      "2013    2508\n",
      "2019    2026\n",
      "2005    2020\n",
      "2004    1456\n",
      "2020    1352\n",
      "2022    1040\n",
      "2003     958\n",
      "2002     753\n",
      "2001     493\n",
      "2000     386\n",
      "1999     311\n",
      "1998     222\n",
      "1997     122\n",
      "1996      80\n",
      "1995      37\n",
      "1994      31\n",
      "1993      17\n",
      "1991      17\n",
      "1990      13\n",
      "1992      12\n",
      "1989       8\n",
      "1988       7\n",
      "1966       7\n",
      "1965       5\n",
      "1985       3\n",
      "1968       3\n",
      "1967       3\n",
      "1964       2\n",
      "1987       2\n",
      "1973       2\n",
      "1981       1\n",
      "1952       1\n",
      "1972       1\n",
      "1986       1\n",
      "1969       1\n",
      "1970       1\n",
      "1983       1\n",
      "Name: year, dtype: int64\n"
     ]
    }
   ],
   "source": [
    "print(cars_ml_df['year'].value_counts())\n",
    "\n",
    "cars_ml_df = cars_ml_df[cars_ml_df['year'] >= 2000]"
   ]
  },
  {
   "cell_type": "code",
   "execution_count": 65,
   "id": "122eda8e",
   "metadata": {},
   "outputs": [
    {
     "name": "stdout",
     "output_type": "stream",
     "text": [
      "2021    4909\n",
      "2018    3846\n",
      "2017    3789\n",
      "2009    3253\n",
      "2008    3237\n",
      "2011    3086\n",
      "2007    2945\n",
      "2016    2903\n",
      "2012    2895\n",
      "2010    2881\n",
      "2015    2682\n",
      "2006    2650\n",
      "2014    2548\n",
      "2013    2508\n",
      "2019    2026\n",
      "2005    2020\n",
      "2004    1456\n",
      "2020    1352\n",
      "2022    1040\n",
      "2003     958\n",
      "2002     753\n",
      "2001     493\n",
      "2000     386\n",
      "1999     311\n",
      "1998     222\n",
      "1997     122\n",
      "1996      80\n",
      "1995      37\n",
      "1994      31\n",
      "1993      17\n",
      "1991      17\n",
      "1990      13\n",
      "1992      12\n",
      "1989       8\n",
      "1988       7\n",
      "1966       7\n",
      "1965       5\n",
      "1985       3\n",
      "1968       3\n",
      "1967       3\n",
      "1964       2\n",
      "1987       2\n",
      "1973       2\n",
      "1981       1\n",
      "1952       1\n",
      "1972       1\n",
      "1986       1\n",
      "1969       1\n",
      "1970       1\n",
      "1983       1\n",
      "Name: year, dtype: int64\n"
     ]
    }
   ],
   "source": [
    "print(cars_ml_df['year'].value_counts())\n",
    "\n",
    "cars_ml_df = cars_ml_df[cars_ml_df['year'] >= 2000]"
   ]
  },
  {
   "cell_type": "code",
   "execution_count": 66,
   "id": "40d9cf7d",
   "metadata": {},
   "outputs": [
    {
     "data": {
      "text/plain": [
       "count     54616.00\n",
       "mean     151422.80\n",
       "std       95371.71\n",
       "min           0.00\n",
       "25%       79000.00\n",
       "50%      160000.00\n",
       "75%      216423.50\n",
       "max     2800000.00\n",
       "Name: mileage, dtype: float64"
      ]
     },
     "execution_count": 66,
     "metadata": {},
     "output_type": "execute_result"
    }
   ],
   "source": [
    "cars_ml_df['mileage'].describe()"
   ]
  },
  {
   "cell_type": "code",
   "execution_count": 67,
   "id": "3b91be2c",
   "metadata": {},
   "outputs": [
    {
     "data": {
      "text/plain": [
       "<AxesSubplot:xlabel='mileage', ylabel='Density'>"
      ]
     },
     "execution_count": 67,
     "metadata": {},
     "output_type": "execute_result"
    },
    {
     "data": {
      "image/png": "[encoded data removed]",
      "text/plain": [
       "<Figure size 432x288 with 1 Axes>"
      ]
     },
     "metadata": {
      "needs_background": "light"
     },
     "output_type": "display_data"
    },
    {
     "data": {
      "image/png": "[encoded data removed]",
      "text/plain": [
       "<Figure size 432x288 with 1 Axes>"
      ]
     },
     "metadata": {
      "needs_background": "light"
     },
     "output_type": "display_data"
    }
   ],
   "source": [
    "import matplotlib.pyplot as plt\n",
    "\n",
    "sns.kdeplot(cars_ml_df['mileage'], shade=True)\n",
    "\n",
    "plt.figure()\n",
    "\n",
    "mileage_q98 = cars_ml_df['mileage'].quantile(0.99)\n",
    "sns.kdeplot(cars_ml_df[cars_ml_df['mileage'] < mileage_q98]['mileage'], shade=True)"
   ]
  },
  {
   "cell_type": "code",
   "execution_count": 46,
   "id": "ea26d47d",
   "metadata": {},
   "outputs": [
    {
     "name": "stdout",
     "output_type": "stream",
     "text": [
      "count   54616.00\n",
      "mean     1909.22\n",
      "std       652.89\n",
      "min         0.00\n",
      "25%      1560.00\n",
      "50%      1968.00\n",
      "75%      1996.00\n",
      "max      6600.00\n",
      "Name: vol_engine, dtype: float64\n"
     ]
    },
    {
     "data": {
      "text/plain": [
       "<AxesSubplot:xlabel='vol_engine', ylabel='Density'>"
      ]
     },
     "execution_count": 46,
     "metadata": {},
     "output_type": "execute_result"
    },
    {
     "data": {
      "image/png": "[encoded data removed]",
      "text/plain": [
       "<Figure size 432x288 with 1 Axes>"
      ]
     },
     "metadata": {
      "needs_background": "light"
     },
     "output_type": "display_data"
    }
   ],
   "source": [
    "print(cars_ml_df['vol_engine'].describe())\n",
    "\n",
    "sns.kdeplot(cars_ml_df['vol_engine'], shade=True)"
   ]
  },
  {
   "cell_type": "code",
   "execution_count": 51,
   "id": "ed781fcd",
   "metadata": {},
   "outputs": [
    {
     "name": "stdout",
     "output_type": "stream",
     "text": [
      "count    117927.00\n",
      "mean      70299.88\n",
      "std       84824.58\n",
      "min         500.00\n",
      "25%       21000.00\n",
      "50%       41900.00\n",
      "75%       83600.00\n",
      "max     2399900.00\n",
      "Name: price, dtype: float64\n"
     ]
    },
    {
     "data": {
      "text/plain": [
       "<AxesSubplot:xlabel='price', ylabel='Density'>"
      ]
     },
     "execution_count": 51,
     "metadata": {},
     "output_type": "execute_result"
    },
    {
     "data": {
      "image/png": "[encoded data removed]",
      "text/plain": [
       "<Figure size 432x288 with 1 Axes>"
      ]
     },
     "metadata": {
      "needs_background": "light"
     },
     "output_type": "display_data"
    }
   ],
   "source": [
    "print(cars_ml_df['price'].describe())\n",
    "\n",
    "sns.kdeplot(cars_ml_df['price'], shade=True)"
   ]
  },
  {
   "cell_type": "code",
   "execution_count": 69,
   "id": "54c22fc2",
   "metadata": {},
   "outputs": [
    {
     "data": {
      "text/html": [
       "<div>\n",
       "<style scoped>\n",
       "    .dataframe tbody tr th:only-of-type {\n",
       "        vertical-align: middle;\n",
       "    }\n",
       "\n",
       "    .dataframe tbody tr th {\n",
       "        vertical-align: top;\n",
       "    }\n",
       "\n",
       "    .dataframe thead th {\n",
       "        text-align: right;\n",
       "    }\n",
       "</style>\n",
       "<table border=\"1\" class=\"dataframe\">\n",
       "  <thead>\n",
       "    <tr style=\"text-align: right;\">\n",
       "      <th></th>\n",
       "      <th>mark</th>\n",
       "      <th>fuel</th>\n",
       "      <th>year</th>\n",
       "      <th>mileage</th>\n",
       "      <th>vol_engine</th>\n",
       "      <th>price</th>\n",
       "    </tr>\n",
       "  </thead>\n",
       "  <tbody>\n",
       "    <tr>\n",
       "      <th>44203</th>\n",
       "      <td>volkswagen</td>\n",
       "      <td>Gasoline</td>\n",
       "      <td>2020</td>\n",
       "      <td>45000</td>\n",
       "      <td>1498</td>\n",
       "      <td>109000</td>\n",
       "    </tr>\n",
       "    <tr>\n",
       "      <th>33876</th>\n",
       "      <td>bmw</td>\n",
       "      <td>Gasoline</td>\n",
       "      <td>2018</td>\n",
       "      <td>14531</td>\n",
       "      <td>1997</td>\n",
       "      <td>142680</td>\n",
       "    </tr>\n",
       "    <tr>\n",
       "      <th>7903</th>\n",
       "      <td>opel</td>\n",
       "      <td>Diesel</td>\n",
       "      <td>2005</td>\n",
       "      <td>227032</td>\n",
       "      <td>1910</td>\n",
       "      <td>9000</td>\n",
       "    </tr>\n",
       "    <tr>\n",
       "      <th>53874</th>\n",
       "      <td>ford</td>\n",
       "      <td>Diesel</td>\n",
       "      <td>2015</td>\n",
       "      <td>112000</td>\n",
       "      <td>1997</td>\n",
       "      <td>57000</td>\n",
       "    </tr>\n",
       "    <tr>\n",
       "      <th>47997</th>\n",
       "      <td>ford</td>\n",
       "      <td>Gasoline</td>\n",
       "      <td>2021</td>\n",
       "      <td>5</td>\n",
       "      <td>999</td>\n",
       "      <td>84600</td>\n",
       "    </tr>\n",
       "    <tr>\n",
       "      <th>30197</th>\n",
       "      <td>bmw</td>\n",
       "      <td>Diesel</td>\n",
       "      <td>2015</td>\n",
       "      <td>117000</td>\n",
       "      <td>1995</td>\n",
       "      <td>99700</td>\n",
       "    </tr>\n",
       "    <tr>\n",
       "      <th>27707</th>\n",
       "      <td>bmw</td>\n",
       "      <td>Gasoline</td>\n",
       "      <td>2013</td>\n",
       "      <td>113000</td>\n",
       "      <td>1997</td>\n",
       "      <td>74900</td>\n",
       "    </tr>\n",
       "    <tr>\n",
       "      <th>30454</th>\n",
       "      <td>bmw</td>\n",
       "      <td>Diesel</td>\n",
       "      <td>2012</td>\n",
       "      <td>250000</td>\n",
       "      <td>1995</td>\n",
       "      <td>60000</td>\n",
       "    </tr>\n",
       "    <tr>\n",
       "      <th>21829</th>\n",
       "      <td>audi</td>\n",
       "      <td>Gasoline</td>\n",
       "      <td>2018</td>\n",
       "      <td>78260</td>\n",
       "      <td>1395</td>\n",
       "      <td>104000</td>\n",
       "    </tr>\n",
       "    <tr>\n",
       "      <th>27245</th>\n",
       "      <td>bmw</td>\n",
       "      <td>LPG</td>\n",
       "      <td>2006</td>\n",
       "      <td>280000</td>\n",
       "      <td>2497</td>\n",
       "      <td>25500</td>\n",
       "    </tr>\n",
       "    <tr>\n",
       "      <th>23287</th>\n",
       "      <td>audi</td>\n",
       "      <td>Diesel</td>\n",
       "      <td>2021</td>\n",
       "      <td>5</td>\n",
       "      <td>2967</td>\n",
       "      <td>453250</td>\n",
       "    </tr>\n",
       "    <tr>\n",
       "      <th>15018</th>\n",
       "      <td>audi</td>\n",
       "      <td>Gasoline</td>\n",
       "      <td>2006</td>\n",
       "      <td>226515</td>\n",
       "      <td>1595</td>\n",
       "      <td>21900</td>\n",
       "    </tr>\n",
       "    <tr>\n",
       "      <th>14693</th>\n",
       "      <td>audi</td>\n",
       "      <td>Gasoline</td>\n",
       "      <td>2002</td>\n",
       "      <td>187000</td>\n",
       "      <td>1781</td>\n",
       "      <td>16900</td>\n",
       "    </tr>\n",
       "    <tr>\n",
       "      <th>53305</th>\n",
       "      <td>ford</td>\n",
       "      <td>Diesel</td>\n",
       "      <td>2018</td>\n",
       "      <td>197000</td>\n",
       "      <td>1997</td>\n",
       "      <td>76900</td>\n",
       "    </tr>\n",
       "    <tr>\n",
       "      <th>54253</th>\n",
       "      <td>ford</td>\n",
       "      <td>Electric</td>\n",
       "      <td>2022</td>\n",
       "      <td>5</td>\n",
       "      <td>0</td>\n",
       "      <td>351000</td>\n",
       "    </tr>\n",
       "    <tr>\n",
       "      <th>27379</th>\n",
       "      <td>bmw</td>\n",
       "      <td>Gasoline</td>\n",
       "      <td>2005</td>\n",
       "      <td>176560</td>\n",
       "      <td>1995</td>\n",
       "      <td>17900</td>\n",
       "    </tr>\n",
       "    <tr>\n",
       "      <th>3934</th>\n",
       "      <td>opel</td>\n",
       "      <td>Diesel</td>\n",
       "      <td>2018</td>\n",
       "      <td>117000</td>\n",
       "      <td>1598</td>\n",
       "      <td>60900</td>\n",
       "    </tr>\n",
       "    <tr>\n",
       "      <th>32564</th>\n",
       "      <td>bmw</td>\n",
       "      <td>Diesel</td>\n",
       "      <td>2012</td>\n",
       "      <td>217000</td>\n",
       "      <td>1995</td>\n",
       "      <td>42900</td>\n",
       "    </tr>\n",
       "    <tr>\n",
       "      <th>46981</th>\n",
       "      <td>ford</td>\n",
       "      <td>Gasoline</td>\n",
       "      <td>2019</td>\n",
       "      <td>5070</td>\n",
       "      <td>3490</td>\n",
       "      <td>419000</td>\n",
       "    </tr>\n",
       "    <tr>\n",
       "      <th>46393</th>\n",
       "      <td>ford</td>\n",
       "      <td>Gasoline</td>\n",
       "      <td>2009</td>\n",
       "      <td>182000</td>\n",
       "      <td>1800</td>\n",
       "      <td>17900</td>\n",
       "    </tr>\n",
       "  </tbody>\n",
       "</table>\n",
       "</div>"
      ],
      "text/plain": [
       "             mark      fuel  year  mileage  vol_engine   price\n",
       "44203  volkswagen  Gasoline  2020    45000        1498  109000\n",
       "33876         bmw  Gasoline  2018    14531        1997  142680\n",
       "7903         opel    Diesel  2005   227032        1910    9000\n",
       "53874        ford    Diesel  2015   112000        1997   57000\n",
       "47997        ford  Gasoline  2021        5         999   84600\n",
       "30197         bmw    Diesel  2015   117000        1995   99700\n",
       "27707         bmw  Gasoline  2013   113000        1997   74900\n",
       "30454         bmw    Diesel  2012   250000        1995   60000\n",
       "21829        audi  Gasoline  2018    78260        1395  104000\n",
       "27245         bmw       LPG  2006   280000        2497   25500\n",
       "23287        audi    Diesel  2021        5        2967  453250\n",
       "15018        audi  Gasoline  2006   226515        1595   21900\n",
       "14693        audi  Gasoline  2002   187000        1781   16900\n",
       "53305        ford    Diesel  2018   197000        1997   76900\n",
       "54253        ford  Electric  2022        5           0  351000\n",
       "27379         bmw  Gasoline  2005   176560        1995   17900\n",
       "3934         opel    Diesel  2018   117000        1598   60900\n",
       "32564         bmw    Diesel  2012   217000        1995   42900\n",
       "46981        ford  Gasoline  2019     5070        3490  419000\n",
       "46393        ford  Gasoline  2009   182000        1800   17900"
      ]
     },
     "execution_count": 69,
     "metadata": {},
     "output_type": "execute_result"
    }
   ],
   "source": [
    "cars_ml_df.sample(frac=1.0).head(20)"
   ]
  },
  {
   "cell_type": "code",
   "execution_count": 86,
   "id": "54022dc8",
   "metadata": {},
   "outputs": [
    {
     "name": "stdout",
     "output_type": "stream",
     "text": [
      "Index(['alfa-romeo', 'audi', 'bmw', 'chevrolet', 'citroen', 'fiat', 'ford',\n",
      "       'honda', 'hyundai', 'kia', 'mazda', 'mercedes-benz', 'mini',\n",
      "       'mitsubishi', 'nissan', 'opel', 'peugeot', 'renault', 'seat', 'skoda',\n",
      "       'toyota', 'volkswagen', 'volvo'],\n",
      "      dtype='object')\n"
     ]
    },
    {
     "name": "stderr",
     "output_type": "stream",
     "text": [
      "/tmp/ipykernel_21/2853628586.py:4: SettingWithCopyWarning: \n",
      "A value is trying to be set on a copy of a slice from a DataFrame.\n",
      "Try using .loc[row_indexer,col_indexer] = value instead\n",
      "\n",
      "See the caveats in the documentation: https://pandas.pydata.org/pandas-docs/stable/user_guide/indexing.html#returning-a-view-versus-a-copy\n",
      "  cars_ml_df['mark'] = mark_categories_map.codes\n",
      "/tmp/ipykernel_21/2853628586.py:5: SettingWithCopyWarning: \n",
      "A value is trying to be set on a copy of a slice from a DataFrame.\n",
      "Try using .loc[row_indexer,col_indexer] = value instead\n",
      "\n",
      "See the caveats in the documentation: https://pandas.pydata.org/pandas-docs/stable/user_guide/indexing.html#returning-a-view-versus-a-copy\n",
      "  cars_ml_df['fuel'] = fuel_categories_map.codes\n"
     ]
    },
    {
     "data": {
      "text/html": [
       "<div>\n",
       "<style scoped>\n",
       "    .dataframe tbody tr th:only-of-type {\n",
       "        vertical-align: middle;\n",
       "    }\n",
       "\n",
       "    .dataframe tbody tr th {\n",
       "        vertical-align: top;\n",
       "    }\n",
       "\n",
       "    .dataframe thead th {\n",
       "        text-align: right;\n",
       "    }\n",
       "</style>\n",
       "<table border=\"1\" class=\"dataframe\">\n",
       "  <thead>\n",
       "    <tr style=\"text-align: right;\">\n",
       "      <th></th>\n",
       "      <th>mark</th>\n",
       "      <th>fuel</th>\n",
       "      <th>year</th>\n",
       "      <th>mileage</th>\n",
       "      <th>vol_engine</th>\n",
       "      <th>price</th>\n",
       "    </tr>\n",
       "  </thead>\n",
       "  <tbody>\n",
       "    <tr>\n",
       "      <th>21072</th>\n",
       "      <td>1</td>\n",
       "      <td>1</td>\n",
       "      <td>2017</td>\n",
       "      <td>129000</td>\n",
       "      <td>2967</td>\n",
       "      <td>199500</td>\n",
       "    </tr>\n",
       "    <tr>\n",
       "      <th>93157</th>\n",
       "      <td>8</td>\n",
       "      <td>3</td>\n",
       "      <td>2019</td>\n",
       "      <td>18821</td>\n",
       "      <td>1591</td>\n",
       "      <td>95550</td>\n",
       "    </tr>\n",
       "    <tr>\n",
       "      <th>105109</th>\n",
       "      <td>14</td>\n",
       "      <td>1</td>\n",
       "      <td>2018</td>\n",
       "      <td>25115</td>\n",
       "      <td>1461</td>\n",
       "      <td>96900</td>\n",
       "    </tr>\n",
       "    <tr>\n",
       "      <th>7160</th>\n",
       "      <td>15</td>\n",
       "      <td>1</td>\n",
       "      <td>2009</td>\n",
       "      <td>172845</td>\n",
       "      <td>1956</td>\n",
       "      <td>25500</td>\n",
       "    </tr>\n",
       "    <tr>\n",
       "      <th>62473</th>\n",
       "      <td>11</td>\n",
       "      <td>1</td>\n",
       "      <td>2011</td>\n",
       "      <td>100000</td>\n",
       "      <td>2143</td>\n",
       "      <td>46500</td>\n",
       "    </tr>\n",
       "    <tr>\n",
       "      <th>7961</th>\n",
       "      <td>15</td>\n",
       "      <td>3</td>\n",
       "      <td>2008</td>\n",
       "      <td>187600</td>\n",
       "      <td>1598</td>\n",
       "      <td>16600</td>\n",
       "    </tr>\n",
       "    <tr>\n",
       "      <th>36597</th>\n",
       "      <td>21</td>\n",
       "      <td>1</td>\n",
       "      <td>2004</td>\n",
       "      <td>142616</td>\n",
       "      <td>1896</td>\n",
       "      <td>18900</td>\n",
       "    </tr>\n",
       "    <tr>\n",
       "      <th>61332</th>\n",
       "      <td>11</td>\n",
       "      <td>1</td>\n",
       "      <td>2020</td>\n",
       "      <td>54634</td>\n",
       "      <td>1950</td>\n",
       "      <td>230000</td>\n",
       "    </tr>\n",
       "    <tr>\n",
       "      <th>32854</th>\n",
       "      <td>2</td>\n",
       "      <td>1</td>\n",
       "      <td>2021</td>\n",
       "      <td>0</td>\n",
       "      <td>0</td>\n",
       "      <td>189900</td>\n",
       "    </tr>\n",
       "    <tr>\n",
       "      <th>62667</th>\n",
       "      <td>17</td>\n",
       "      <td>3</td>\n",
       "      <td>2021</td>\n",
       "      <td>10</td>\n",
       "      <td>1598</td>\n",
       "      <td>124900</td>\n",
       "    </tr>\n",
       "    <tr>\n",
       "      <th>6540</th>\n",
       "      <td>15</td>\n",
       "      <td>1</td>\n",
       "      <td>2011</td>\n",
       "      <td>186933</td>\n",
       "      <td>1956</td>\n",
       "      <td>30900</td>\n",
       "    </tr>\n",
       "    <tr>\n",
       "      <th>111724</th>\n",
       "      <td>18</td>\n",
       "      <td>3</td>\n",
       "      <td>2005</td>\n",
       "      <td>191000</td>\n",
       "      <td>1198</td>\n",
       "      <td>9999</td>\n",
       "    </tr>\n",
       "    <tr>\n",
       "      <th>61415</th>\n",
       "      <td>11</td>\n",
       "      <td>3</td>\n",
       "      <td>2017</td>\n",
       "      <td>40000</td>\n",
       "      <td>5461</td>\n",
       "      <td>539000</td>\n",
       "    </tr>\n",
       "    <tr>\n",
       "      <th>114974</th>\n",
       "      <td>22</td>\n",
       "      <td>1</td>\n",
       "      <td>2010</td>\n",
       "      <td>300201</td>\n",
       "      <td>1560</td>\n",
       "      <td>17800</td>\n",
       "    </tr>\n",
       "    <tr>\n",
       "      <th>43997</th>\n",
       "      <td>21</td>\n",
       "      <td>1</td>\n",
       "      <td>2008</td>\n",
       "      <td>146718</td>\n",
       "      <td>1968</td>\n",
       "      <td>43900</td>\n",
       "    </tr>\n",
       "    <tr>\n",
       "      <th>53919</th>\n",
       "      <td>6</td>\n",
       "      <td>1</td>\n",
       "      <td>2017</td>\n",
       "      <td>176000</td>\n",
       "      <td>1997</td>\n",
       "      <td>73000</td>\n",
       "    </tr>\n",
       "    <tr>\n",
       "      <th>53538</th>\n",
       "      <td>6</td>\n",
       "      <td>1</td>\n",
       "      <td>2017</td>\n",
       "      <td>137780</td>\n",
       "      <td>1997</td>\n",
       "      <td>74990</td>\n",
       "    </tr>\n",
       "    <tr>\n",
       "      <th>63193</th>\n",
       "      <td>17</td>\n",
       "      <td>3</td>\n",
       "      <td>2021</td>\n",
       "      <td>20</td>\n",
       "      <td>999</td>\n",
       "      <td>73000</td>\n",
       "    </tr>\n",
       "    <tr>\n",
       "      <th>36986</th>\n",
       "      <td>21</td>\n",
       "      <td>3</td>\n",
       "      <td>2008</td>\n",
       "      <td>258000</td>\n",
       "      <td>1984</td>\n",
       "      <td>23900</td>\n",
       "    </tr>\n",
       "    <tr>\n",
       "      <th>3562</th>\n",
       "      <td>15</td>\n",
       "      <td>3</td>\n",
       "      <td>2018</td>\n",
       "      <td>68000</td>\n",
       "      <td>1399</td>\n",
       "      <td>55999</td>\n",
       "    </tr>\n",
       "  </tbody>\n",
       "</table>\n",
       "</div>"
      ],
      "text/plain": [
       "        mark  fuel  year  mileage  vol_engine   price\n",
       "21072      1     1  2017   129000        2967  199500\n",
       "93157      8     3  2019    18821        1591   95550\n",
       "105109    14     1  2018    25115        1461   96900\n",
       "7160      15     1  2009   172845        1956   25500\n",
       "62473     11     1  2011   100000        2143   46500\n",
       "7961      15     3  2008   187600        1598   16600\n",
       "36597     21     1  2004   142616        1896   18900\n",
       "61332     11     1  2020    54634        1950  230000\n",
       "32854      2     1  2021        0           0  189900\n",
       "62667     17     3  2021       10        1598  124900\n",
       "6540      15     1  2011   186933        1956   30900\n",
       "111724    18     3  2005   191000        1198    9999\n",
       "61415     11     3  2017    40000        5461  539000\n",
       "114974    22     1  2010   300201        1560   17800\n",
       "43997     21     1  2008   146718        1968   43900\n",
       "53919      6     1  2017   176000        1997   73000\n",
       "53538      6     1  2017   137780        1997   74990\n",
       "63193     17     3  2021       20         999   73000\n",
       "36986     21     3  2008   258000        1984   23900\n",
       "3562      15     3  2018    68000        1399   55999"
      ]
     },
     "execution_count": 86,
     "metadata": {},
     "output_type": "execute_result"
    }
   ],
   "source": [
    "mark_categories_map = pd.Categorical(cars_ml_df['mark'])\n",
    "fuel_categories_map = pd.Categorical(cars_ml_df['fuel'])\n",
    "\n",
    "cars_ml_df['mark'] = mark_categories_map.codes\n",
    "cars_ml_df['fuel'] = fuel_categories_map.codes\n",
    "\n",
    "print(mark_categories_map.categories)\n",
    "\n",
    "cars_ml_df.sample(frac=1.0).head()"
   ]
  },
  {
   "cell_type": "code",
   "execution_count": null,
   "id": "341054c7",
   "metadata": {},
   "outputs": [],
   "source": [
    "# Instantiate a sequential model\n",
    "model = Sequential()\n",
    "  \n",
    "# Add 3 dense layers of 128, 64 and 32 neurons each\n",
    "model.add(Dense(32, input_shape=(1,), activation='relu'))\n",
    "\n",
    "# Add two Dense layers with 50 neurons and relu activation\n",
    "model.add(Dense(64, activation='relu'))\n",
    "model.add(Dense(32, activation='relu'))\n",
    "\n",
    "# End your model with a Dense layer and no activation\n",
    "model.add(Dense(1))\n",
    "  \n",
    "\n",
    "# Compile your model using categorical_crossentropy loss\n",
    "model.compile(loss='categorical_crossentropy',\n",
    "              optimizer='adam',\n",
    "              metrics=['accuracy'])"
   ]
  }
 ],
 "metadata": {
  "kernelspec": {
   "display_name": "Python 3 (ipykernel)",
   "language": "python",
   "name": "python3"
  },
  "language_info": {
   "codemirror_mode": {
    "name": "ipython",
    "version": 3
   },
   "file_extension": ".py",
   "mimetype": "text/x-python",
   "name": "python",
   "nbconvert_exporter": "python",
   "pygments_lexer": "ipython3",
   "version": "3.9.10"
  }
 },
 "nbformat": 4,
 "nbformat_minor": 5
}
